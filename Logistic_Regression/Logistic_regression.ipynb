{
 "cells": [
  {
   "cell_type": "code",
   "execution_count": 1,
   "id": "d07cfba6-4aa8-43e0-a153-1e192c8d57fa",
   "metadata": {},
   "outputs": [
    {
     "name": "stderr",
     "output_type": "stream",
     "text": [
      "2021-10-26 09:56:02.841676: W tensorflow/stream_executor/platform/default/dso_loader.cc:64] Could not load dynamic library 'libcudart.so.11.0'; dlerror: libcudart.so.11.0: cannot open shared object file: No such file or directory; LD_LIBRARY_PATH: :/home/peshal/opencv/build/lib\n",
      "2021-10-26 09:56:02.841698: I tensorflow/stream_executor/cuda/cudart_stub.cc:29] Ignore above cudart dlerror if you do not have a GPU set up on your machine.\n"
     ]
    }
   ],
   "source": [
    "import numpy as np \n",
    "import matplotlib.pyplot as plt\n",
    "from keras.datasets import mnist\n",
    "import math\n",
    "from sklearn import preprocessing\n",
    "from sklearn import metrics \n",
    "import seaborn as sns "
   ]
  },
  {
   "cell_type": "code",
   "execution_count": 2,
   "id": "1d7c8eb1-97eb-476a-8e35-5ecbc42cae74",
   "metadata": {},
   "outputs": [],
   "source": [
    "# loading mnist dataset and spliting them into train and test \n",
    "(X_train, Y_train),(X_test,Y_test)=mnist.load_data()"
   ]
  },
  {
   "cell_type": "code",
   "execution_count": 4,
   "id": "6a7290f9",
   "metadata": {},
   "outputs": [],
   "source": [
    "# Extracting 100 images from test dataset  to be use for predicting\n",
    "check_image=X_test[0:100]\n",
    "X_test=X_test[100:]\n",
    "Y_test=Y_test[100:]"
   ]
  },
  {
   "cell_type": "code",
   "execution_count": 9,
   "id": "a5acefbe-6e15-4919-b3c6-4ece2604f46b",
   "metadata": {},
   "outputs": [],
   "source": [
    "#normalizing test and train data into -0.5 to 0.5\n",
    "X_train=X_train.astype(np.float32)\n",
    "X_test=X_test.astype(np.float32)\n",
    "X_train=X_train/255-0.5\n",
    "X_test=X_test/255-0.5"
   ]
  },
  {
   "cell_type": "code",
   "execution_count": 10,
   "id": "013fa2c3-c6bd-437c-b7db-f654752564d0",
   "metadata": {},
   "outputs": [],
   "source": [
    "# reshaping two dimensional image of size 28*28 into one dimensional of shape 784\n",
    "X_train_reshaped=X_train.reshape((len(X_train),-1))\n",
    "X_test_reshaped=X_test.reshape((len(X_test),-1))"
   ]
  },
  {
   "cell_type": "code",
   "execution_count": 12,
   "id": "622db520-d3b2-4093-9c8d-bc564680ac25",
   "metadata": {},
   "outputs": [],
   "source": [
    "## This class contains all the function used for implementing logistic regression in input data\n",
    "class LogisticRegression:\n",
    "    \n",
    "    def __init__(self,epochs,learning_rate,batches,weights=None):\n",
    "        self.epochs=epochs\n",
    "        self.learning_rate=learning_rate\n",
    "        self.batches=batches\n",
    "        self.weights=weights\n",
    "        \n",
    "    def get_weights(self):\n",
    "        return self.weights\n",
    "\n",
    "    ## This function is called to train the model by passing training input data with their label\n",
    "    ## Logistic Regression model is used and parameters are tweaked according the the input and output so that we obtain maximum likelihood \n",
    "    def fit(self,X_train,Y_train):\n",
    "        ## Input label is to be preprocessed so that it can be used in classification \n",
    "        lb = preprocessing.LabelBinarizer()\n",
    "        lb.fit(Y_train)\n",
    "        Y_train=lb.transform(Y_train)\n",
    "        X_train_new=np.ones((len(X_train),len(X_train[0])+1))\n",
    "        Number_features=len(X_train_new[0])\n",
    "        X_train_new[:,1:]=X_train\n",
    "        accuracy=0\n",
    "        Number_of_labels=len(Y_train[0])\n",
    "        ## These are the parameters whose value are to be set\n",
    "        coefficients=np.random.rand(Number_of_labels,Number_features)\n",
    "        mean_error=1\n",
    "        number_of_trainingset=int(len(X_train)/self.batches)\n",
    "        print(number_of_trainingset)\n",
    "        for num_iter in range(self.epochs):\n",
    "            mean_error=0\n",
    "            for batch in range(self.batches):\n",
    "                start=0\n",
    "                end=0;\n",
    "                if (batch+1)*number_of_trainingset < len(X_train_new):\n",
    "                    start=int(batch*number_of_trainingset)\n",
    "                    end=int(start+number_of_trainingset)\n",
    "                else:\n",
    "                    start=int(batch*number_of_trainingset)\n",
    "                    end=int(len(X_train_new))\n",
    "                X_train_batch=X_train_new[start:end,:]\n",
    "                Y_train_batch=Y_train[start:end,:]\n",
    "                coefficients_transpose=np.transpose(coefficients)\n",
    "                hypothesis=np.zeros(Y_train_batch.shape)\n",
    "                loss_func=np.zeros(Y_train_batch.shape)\n",
    "                for i in range(len(X_train_batch)):\n",
    "                    for j in range(Number_of_labels):\n",
    "                        hypothesis_value=np.dot(X_train_batch[i,:],coefficients_transpose[:,j])\n",
    "                        hypothesis[i][j]=1/(1+math.exp(-hypothesis_value))\n",
    "                        value1=hypothesis[i][j]\n",
    "                        value2=1-hypothesis[i][j]\n",
    "                        if value1<=0 :\n",
    "                            value1=0.00000000000001\n",
    "                        elif value2<=0 :\n",
    "                            value2=0.00000000000001\n",
    "                        loss_func[i][j]=-Y_train_batch[i][j]*math.log10(value1)-(1-Y_train_batch[i][j])*math.log10(value2)\n",
    "                cost_func=np.sum(loss_func,axis=0)/len(loss_func)\n",
    "                cost_func_derivative=np.dot(np.transpose((hypothesis-Y_train_batch)),X_train_batch)/len(X_train_batch)\n",
    "                coefficients=coefficients-self.learning_rate*cost_func_derivative\n",
    "                mean_error=np.sum(cost_func)/len(cost_func)\n",
    "                Y_predict=np.where(hypothesis>=0.5,1,0)\n",
    "                Y_predict=np.argmax(Y_predict,axis=1)\n",
    "                Y_train_batch=np.argmax(Y_train_batch,axis=1)\n",
    "                unique_value,counts=np.unique(Y_predict==Y_train_batch,return_counts=True)\n",
    "            print(\"error: \"+mean_error.__str__()+\"  accuracy : \"+( counts[1]/np.sum(counts)*100).__str__()+\"%\")\n",
    "        print(cost_func)\n",
    "        self.weights=coefficients\n",
    "    \n",
    "    ## This function takes test data and predict output for that data \n",
    "    ## predicted output is compared with actual output and error metrices is obtained to comapre how good is the model\n",
    "    def test(self,X_test,Y_test):\n",
    "        lb = preprocessing.LabelBinarizer()\n",
    "        lb.fit(Y_test)\n",
    "        Y_test=lb.transform(Y_test)\n",
    "        X_test_new=np.ones((len(X_test),len(X_test[0])+1))\n",
    "        Number_features=len(X_test_new[0])\n",
    "        X_test_new[:,1:]=X_test\n",
    "        accuracy=0\n",
    "        Number_of_labels=len(Y_test[0])\n",
    "        mean_error=1\n",
    "        loss_func=np.zeros(Y_test.shape)\n",
    "        hypothesis=np.zeros(Y_test.shape)\n",
    "        weights_transpose=np.transpose(self.weights)\n",
    "        for i in range(len(X_test_new)):\n",
    "            for j in range(Number_of_labels):\n",
    "                hypothesis_value=np.dot(X_test_new[i,:],weights_transpose[:,j]) \n",
    "                hypothesis[i][j]=1/(1+math.exp(-hypothesis_value))\n",
    "                value1=hypothesis[i][j]\n",
    "                value2=1-hypothesis[i][j]\n",
    "                if value1<=0 :\n",
    "                    value1=0.00000000000001\n",
    "                elif value2<=0 :\n",
    "                    value2=0.00000000000001\n",
    "                loss_func[i][j]=-Y_test[i][j]*math.log10(value1)-(1-Y_test[i][j])*math.log10(value2)\n",
    "        cost_func=np.sum(loss_func,axis=0)/len(loss_func)\n",
    "        mean_error=np.sum(cost_func)/len(cost_func)\n",
    "        Y_predict=np.where(hypothesis>=0.5,1,0)\n",
    "        Y_predict=np.argmax(Y_predict,axis=1)\n",
    "        Y_test=np.argmax(Y_test,axis=1)\n",
    "        unique_value,counts=np.unique(Y_predict==Y_test,return_counts=True)\n",
    "#         print(\"accuracy\",)\n",
    "        cf_matrix=metrics.confusion_matrix(Y_test,Y_predict, labels=[0,1,2,3,4,5,6,7,8,9])\n",
    "        print(metrics.classification_report(Y_test,Y_predict, labels=[0,1,2,3,4,5,6,7,8,9],zero_division=0))\n",
    "        sns.set(rc={'figure.figsize':(11.7,8.27)})\n",
    "        sns.heatmap(cf_matrix, annot=True)\n",
    "        print(\"error: \"+mean_error.__str__()+\"  accuracy : \"+ (counts[1]/np.sum(counts)*100).__str__()+\"%\")\n",
    "\n",
    "    def predict(self,input_image):\n",
    "        input_image=input_image/255-0.5\n",
    "        input_image=input_image.astype(np.float32)\n",
    "        input_image=input_image.reshape((-1))\n",
    "        input_image_modified=np.ones(len(input_image)+1)\n",
    "        input_image_modified[1:]=input_image\n",
    "        hypothesis=np.zeros((len(self.weights)))\n",
    "        weights_transpose=np.transpose(self.weights)\n",
    "        Number_of_labels=len(self.weights)\n",
    "        for j in range(Number_of_labels):\n",
    "            hypothesis_value=np.dot(input_image_modified,weights_transpose[:,j]) \n",
    "            hypothesis[j]=1/(1+math.exp(-hypothesis_value))\n",
    "        return np.where(hypothesis>=0.5,1,0)"
   ]
  },
  {
   "cell_type": "code",
   "execution_count": 13,
   "id": "01f6e0e1-defd-494b-9450-11e220bc2d91",
   "metadata": {},
   "outputs": [
    {
     "name": "stdout",
     "output_type": "stream",
     "text": [
      "6000\n",
      "error: 5.151480448437217  accuracy : 9.783333333333333%\n",
      "error: 3.9200532768354615  accuracy : 9.783333333333333%\n",
      "error: 2.6887449632713203  accuracy : 9.783333333333333%\n",
      "error: 1.4666837388997886  accuracy : 9.983333333333333%\n",
      "error: 0.5928174072543596  accuracy : 19.916666666666664%\n",
      "error: 0.4011482071220704  accuracy : 31.016666666666666%\n",
      "error: 0.33741582211678073  accuracy : 35.85%\n",
      "error: 0.28760531572159287  accuracy : 40.68333333333333%\n",
      "error: 0.24684422352563865  accuracy : 44.766666666666666%\n",
      "error: 0.21307726870268628  accuracy : 48.3%\n",
      "error: 0.1849578880321924  accuracy : 51.61666666666667%\n",
      "error: 0.16147514999418575  accuracy : 54.85%\n",
      "error: 0.14185237790397404  accuracy : 57.81666666666667%\n",
      "error: 0.12548750619543098  accuracy : 60.56666666666667%\n",
      "error: 0.11188905774409814  accuracy : 63.016666666666666%\n",
      "error: 0.10062434965753006  accuracy : 64.91666666666667%\n",
      "error: 0.0912953144484216  accuracy : 66.56666666666666%\n",
      "error: 0.0835464062794225  accuracy : 68.08333333333333%\n",
      "error: 0.0770800796765023  accuracy : 69.35%\n",
      "error: 0.07165632781579942  accuracy : 71.08333333333333%\n",
      "error: 0.06708171815709338  accuracy : 72.21666666666667%\n",
      "error: 0.06319900084728701  accuracy : 73.28333333333333%\n",
      "error: 0.05988078353258569  accuracy : 74.11666666666666%\n",
      "error: 0.05702448349091671  accuracy : 74.85000000000001%\n",
      "error: 0.054548151691265756  accuracy : 75.68333333333334%\n",
      "error: 0.052386805664411354  accuracy : 76.28333333333333%\n",
      "error: 0.05048885066901959  accuracy : 76.86666666666667%\n",
      "error: 0.048812954300640074  accuracy : 77.46666666666667%\n",
      "error: 0.047325663520576225  accuracy : 78.03333333333333%\n",
      "error: 0.0459996349280145  accuracy : 78.48333333333333%\n",
      "error: 0.04481228939193353  accuracy : 78.91666666666667%\n",
      "error: 0.043744806138779235  accuracy : 79.18333333333332%\n",
      "error: 0.04278138843569767  accuracy : 79.5%\n",
      "error: 0.04190871087161925  accuracy : 79.65%\n",
      "error: 0.041115481077912505  accuracy : 79.83333333333333%\n",
      "error: 0.040392087119830944  accuracy : 80.10000000000001%\n",
      "error: 0.03973031409781514  accuracy : 80.36666666666666%\n",
      "error: 0.03912311411334042  accuracy : 80.58333333333333%\n",
      "error: 0.03856441712673462  accuracy : 80.71666666666667%\n",
      "error: 0.03804897444307269  accuracy : 80.83333333333333%\n",
      "error: 0.03757222883374541  accuracy : 81.11666666666667%\n",
      "error: 0.03713020654896983  accuracy : 81.25%\n",
      "error: 0.0367194277936134  accuracy : 81.61666666666667%\n",
      "error: 0.03633683315325956  accuracy : 81.75%\n",
      "error: 0.03597972353834846  accuracy : 81.93333333333334%\n",
      "error: 0.03564571103181523  accuracy : 82.03333333333333%\n",
      "error: 0.035332678207308774  accuracy : 82.13333333333334%\n",
      "error: 0.035038744020357046  accuracy : 82.28333333333333%\n",
      "error: 0.034762234920995935  accuracy : 82.36666666666666%\n",
      "error: 0.03450166017523362  accuracy : 82.31666666666668%\n",
      "error: 0.03425569054111729  accuracy : 82.46666666666667%\n",
      "error: 0.03402313956536414  accuracy : 82.51666666666667%\n",
      "error: 0.03380294693743853  accuracy : 82.6%\n",
      "error: 0.03359416353822272  accuracy : 82.69999999999999%\n",
      "error: 0.0333959379824118  accuracy : 82.69999999999999%\n",
      "error: 0.03320750454247899  accuracy : 82.78333333333333%\n",
      "error: 0.03302817237199378  accuracy : 82.88333333333333%\n",
      "error: 0.03285731595150023  accuracy : 82.98333333333333%\n",
      "error: 0.03269436668546276  accuracy : 83.01666666666667%\n",
      "error: 0.0325388055893052  accuracy : 83.11666666666667%\n",
      "error: 0.03239015701401177  accuracy : 83.2%\n",
      "error: 0.03224798335277116  accuracy : 83.23333333333333%\n",
      "error: 0.03211188065614613  accuracy : 83.31666666666668%\n",
      "error: 0.03198147505420842  accuracy : 83.35000000000001%\n",
      "error: 0.031856419857061564  accuracy : 83.33333333333334%\n",
      "error: 0.03173639319044659  accuracy : 83.38333333333333%\n",
      "error: 0.031621096026421734  accuracy : 83.43333333333334%\n",
      "error: 0.031510250488620405  accuracy : 83.41666666666666%\n",
      "error: 0.031403598340294755  accuracy : 83.46666666666667%\n",
      "error: 0.031300899593292894  accuracy : 83.5%\n",
      "error: 0.031201931201592526  accuracy : 83.53333333333333%\n",
      "error: 0.031106485821558883  accuracy : 83.6%\n",
      "error: 0.031014370632751437  accuracy : 83.63333333333334%\n",
      "error: 0.03092540621927197  accuracy : 83.65%\n",
      "error: 0.030839425514053515  accuracy : 83.71666666666667%\n",
      "[0.01756043 0.01559104 0.0308213  0.03209062 0.02411417 0.04927493\n",
      " 0.01790264 0.02277604 0.05110816 0.04715492]\n"
     ]
    }
   ],
   "source": [
    "model=LogisticRegression(75,0.2,10)\n",
    "model.fit(X_train_reshaped,Y_train)"
   ]
  },
  {
   "cell_type": "code",
   "execution_count": 14,
   "id": "8ccbbfd3",
   "metadata": {},
   "outputs": [
    {
     "name": "stdout",
     "output_type": "stream",
     "text": [
      "              precision    recall  f1-score   support\n",
      "\n",
      "           0       0.43      0.99      0.60       972\n",
      "           1       0.96      0.95      0.96      1121\n",
      "           2       0.94      0.80      0.86      1024\n",
      "           3       0.91      0.81      0.86       999\n",
      "           4       0.90      0.83      0.87       968\n",
      "           5       0.91      0.67      0.77       885\n",
      "           6       0.95      0.85      0.90       948\n",
      "           7       0.94      0.86      0.90      1013\n",
      "           8       0.90      0.68      0.77       972\n",
      "           9       0.94      0.71      0.81       998\n",
      "\n",
      "    accuracy                           0.82      9900\n",
      "   macro avg       0.88      0.81      0.83      9900\n",
      "weighted avg       0.88      0.82      0.83      9900\n",
      "\n",
      "error: 0.0353768040297964  accuracy : 81.76767676767676%\n"
     ]
    },
    {
     "data": {
      "image/png": "[encoded data removed]",
      "text/plain": [
       "<Figure size 842.4x595.44 with 2 Axes>"
      ]
     },
     "metadata": {},
     "output_type": "display_data"
    }
   ],
   "source": [
    "model.test(X_test=X_test_reshaped,Y_test=Y_test)"
   ]
  },
  {
   "cell_type": "code",
   "execution_count": 67,
   "id": "9dc78066",
   "metadata": {},
   "outputs": [
    {
     "name": "stdout",
     "output_type": "stream",
     "text": [
      "4\n"
     ]
    },
    {
     "data": {
      "text/plain": [
       "<matplotlib.image.AxesImage at 0x7fdc044a5760>"
      ]
     },
     "execution_count": 67,
     "metadata": {},
     "output_type": "execute_result"
    },
    {
     "data": {
      "image/png": "[encoded data removed]",
      "text/plain": [
       "<Figure size 842.4x595.44 with 1 Axes>"
      ]
     },
     "metadata": {},
     "output_type": "display_data"
    }
   ],
   "source": [
    "choose_image=np.random.randint(0,100)\n",
    "print(np.argmax(model.predict(check_image[choose_image])))\n",
    "plt.imshow(check_image[choose_image])"
   ]
  },
  {
   "cell_type": "code",
   "execution_count": 16,
   "id": "40534def-59e1-4cad-95df-78203084228d",
   "metadata": {},
   "outputs": [],
   "source": [
    "weights=model.get_weights()"
   ]
  },
  {
   "cell_type": "code",
   "execution_count": null,
   "id": "b913a652-564a-4390-9bae-01f2bf25cb79",
   "metadata": {},
   "outputs": [],
   "source": []
  }
 ],
 "metadata": {
  "interpreter": {
   "hash": "916dbcbb3f70747c44a77c7bcd40155683ae19c65e1c03b4aa3499c5328201f1"
  },
  "kernelspec": {
   "display_name": "Python 3.8.10 64-bit",
   "name": "python3"
  },
  "language_info": {
   "codemirror_mode": {
    "name": "ipython",
    "version": 3
   },
   "file_extension": ".py",
   "mimetype": "text/x-python",
   "name": "python",
   "nbconvert_exporter": "python",
   "pygments_lexer": "ipython3",
   "version": "3.8.10"
  }
 },
 "nbformat": 4,
 "nbformat_minor": 5
}
